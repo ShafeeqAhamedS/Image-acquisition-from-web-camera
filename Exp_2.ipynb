{
 "cells": [
  {
   "cell_type": "code",
   "execution_count": 1,
   "id": "ee28978d-d26e-45bb-b35e-a5d3bc8bb3bf",
   "metadata": {},
   "outputs": [],
   "source": [
    "import cv2\n",
    "import numpy as np"
   ]
  },
  {
   "cell_type": "code",
   "execution_count": 19,
   "id": "d76fdb66-2d0d-40b2-8b39-13ed87cfe2a8",
   "metadata": {},
   "outputs": [],
   "source": [
    "obj = cv2.VideoCapture(0)\n",
    "\n",
    "while(True):\n",
    "    cap,frame = obj.read()\n",
    "    cv2.imshow('image.jpg',frame)\n",
    "    cv2.imwrite(\"capture.jpg\",frame)\n",
    "    \n",
    "    if cv2.waitKey(1) == ord('q'):\n",
    "        break\n",
    "    \n",
    "obj.release()\n",
    "cv2.destroyAllWindows()"
   ]
  },
  {
   "cell_type": "code",
   "execution_count": 21,
   "id": "c31d38e7-fc91-4ed5-977b-9f2ffaece7bc",
   "metadata": {},
   "outputs": [],
   "source": [
    "obj = cv2.VideoCapture(0)\n",
    "\n",
    "while(True):\n",
    "    cap,frame = obj.read()\n",
    "    cv2.imshow('video_image',frame)\n",
    "    \n",
    "    if cv2.waitKey(1) == ord('q'):\n",
    "        break\n",
    "obj.release()\n",
    "cv2.destroyAllWindows()"
   ]
  },
  {
   "cell_type": "code",
   "execution_count": 11,
   "id": "3570efef-3444-4f74-b79b-ed40d69951a8",
   "metadata": {},
   "outputs": [],
   "source": [
    "obj = cv2.VideoCapture(0)\n",
    "\n",
    "while True:\n",
    "    cap, frame = obj.read()\n",
    "    h = int(obj.get(4))\n",
    "    w = int(obj.get(3))\n",
    "    \n",
    "    sm_frame = cv2.resize(frame, (0,0), fx=0.5 , fy=0.5)\n",
    "    im = np.ones(frame.shape,np.uint8)*200\n",
    "    \n",
    "    im[125:(h//2)+125,135:(w//2)+135] = sm_frame\n",
    "    cv2.imshow(\"Pic\",im)\n",
    "    if cv2.waitKey(1) == ord('q'):\n",
    "        break\n",
    "obj.release()\n",
    "cv2.destroyAllWindows()"
   ]
  },
  {
   "cell_type": "code",
   "execution_count": 16,
   "id": "23567e02-0711-414a-a7d1-6bc5305c5c83",
   "metadata": {},
   "outputs": [],
   "source": [
    "obj = cv2.VideoCapture(0)\n",
    "\n",
    "while True:\n",
    "    cap, frame = obj.read()\n",
    "    h = int(obj.get(4))\n",
    "    w = int(obj.get(3))\n",
    "        \n",
    "    im = np.ones(frame.shape,np.uint8)*185\n",
    "    sf = cv2.resize(frame, (0,0), fx=0.5 , fy=0.5)\n",
    "    #+/- 80\n",
    "    im[75:(height//2)+155, 35:(width//2)-45]=cv2.rotate(sf,cv2.ROTATE_90_CLOCKWISE)\n",
    "    im[:height//2, width//2:]=sf\n",
    "    im[height//2:, width//2:]=cv2.rotate(sf,cv2.ROTATE_180)\n",
    "    \n",
    "    cv2.imshow(\"Pic\",im)\n",
    "    cv2.imwrite(\"rotate_quadrant.jpg\",im)\n",
    "    if cv2.waitKey(1) == ord('q'):\n",
    "        break\n",
    "obj.release()\n",
    "cv2.destroyAllWindows()"
   ]
  }
 ],
 "metadata": {
  "kernelspec": {
   "display_name": "Python 3 (ipykernel)",
   "language": "python",
   "name": "python3"
  },
  "language_info": {
   "codemirror_mode": {
    "name": "ipython",
    "version": 3
   },
   "file_extension": ".py",
   "mimetype": "text/x-python",
   "name": "python",
   "nbconvert_exporter": "python",
   "pygments_lexer": "ipython3",
   "version": "3.9.13"
  }
 },
 "nbformat": 4,
 "nbformat_minor": 5
}
